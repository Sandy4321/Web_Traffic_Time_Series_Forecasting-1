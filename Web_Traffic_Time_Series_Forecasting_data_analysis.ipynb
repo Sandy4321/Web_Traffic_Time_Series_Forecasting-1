{
 "cells": [
  {
   "cell_type": "markdown",
   "metadata": {},
   "source": [
    "# Kaggle competition\n",
    "# Web Traffic Time Series Forecasting\n",
    "# https://www.kaggle.com/c/web-traffic-time-series-forecasting"
   ]
  },
  {
   "cell_type": "code",
   "execution_count": null,
   "metadata": {},
   "outputs": [],
   "source": [
    "import numpy\n",
    "import pandas\n",
    "import math\n",
    "import re\n",
    "import datetime as dt\n",
    "import matplotlib.pyplot as plt"
   ]
  },
  {
   "cell_type": "markdown",
   "metadata": {},
   "source": [
    "Import data"
   ]
  },
  {
   "cell_type": "code",
   "execution_count": null,
   "metadata": {},
   "outputs": [],
   "source": [
    "dataframe = pandas.read_csv('train_1.csv').fillna(0)\n",
    "dataframe.head()"
   ]
  },
  {
   "cell_type": "markdown",
   "metadata": {},
   "source": [
    "# Plot all pages visualisation together"
   ]
  },
  {
   "cell_type": "code",
   "execution_count": null,
   "metadata": {},
   "outputs": [],
   "source": [
    "df = pandas.DataFrame()\n",
    "df['tot'] = dataframe.drop(['Page'], axis=1).sum().values\n",
    "dates = list(dataframe.drop(['Page'], axis=1).columns.values)\n",
    "df = df.set_index(pandas.DatetimeIndex(dates))\n",
    "df.plot(figsize=(16,6))\n",
    "plt.xlabel('Date')\n",
    "plt.ylabel('# of visualizations')\n",
    "plt.show()"
   ]
  },
  {
   "cell_type": "markdown",
   "metadata": {},
   "source": [
    "# Study dataframe divided by languages"
   ]
  },
  {
   "cell_type": "code",
   "execution_count": null,
   "metadata": {},
   "outputs": [],
   "source": [
    "labels={'en':'English','ja':'Japanese','de':'German','na':'Media','fr':'French','zh':'Chinese','ru':'Russian','es':'Spanish'}\n",
    "languages = ['zh','en','ja','de','na','fr','es','ru']\n",
    "\n",
    "def find_language(url):\n",
    "    # identify the language of a page from its url\n",
    "    res = re.search('[a-z][a-z].wikipedia.org',url)\n",
    "    if res:\n",
    "        res=res.group()\n",
    "        return res[0:2]\n",
    "    return 'na'\n",
    "\n",
    "# prepare dataframe with language specification\n",
    "data_lang = []\n",
    "for i in range(numpy.shape(dataframe)[0]):\n",
    "    data_lang.append(find_language(dataframe.Page[i]))\n",
    "dataframe = dataframe.assign(lang=data_lang)\n",
    "\n",
    "# prepare dataframe with time-series and sum of visuailzations\n",
    "# separated by different languages\n",
    "for language in languages:\n",
    "    df[labels[language]] = dataframe.loc[dataframe['lang'] == language].drop(['Page','lang'],axis=1).sum().values\n",
    "df.head()"
   ]
  },
  {
   "cell_type": "code",
   "execution_count": null,
   "metadata": {},
   "outputs": [],
   "source": [
    "df.drop(['tot'], axis=1).plot(figsize=(16,6))\n",
    "plt.xlabel('Date')\n",
    "plt.ylabel('# of visualisations')\n",
    "plt.show()"
   ]
  },
  {
   "cell_type": "code",
   "execution_count": null,
   "metadata": {
    "scrolled": false
   },
   "outputs": [],
   "source": [
    "from statsmodels.tsa.seasonal import seasonal_decompose\n",
    "\n",
    "for language in languages:\n",
    "#series = df['Chinese']\n",
    "    result = seasonal_decompose(df[labels[language]], model='additive')\n",
    "    result.trend[-20:].plot(figsize=(16,6), label='Trend %s'% labels[language])\n",
    "    result.seasonal[-20:].plot(figsize=(16,6), label='Seasonal %s'% labels[language])\n",
    "    plt.legend()\n",
    "    plt.show()"
   ]
  },
  {
   "cell_type": "code",
   "execution_count": null,
   "metadata": {},
   "outputs": [],
   "source": []
  }
 ],
 "metadata": {
  "kernelspec": {
   "display_name": "Python 3",
   "language": "python",
   "name": "python3"
  },
  "language_info": {
   "codemirror_mode": {
    "name": "ipython",
    "version": 3
   },
   "file_extension": ".py",
   "mimetype": "text/x-python",
   "name": "python",
   "nbconvert_exporter": "python",
   "pygments_lexer": "ipython3",
   "version": "3.6.5"
  }
 },
 "nbformat": 4,
 "nbformat_minor": 2
}
